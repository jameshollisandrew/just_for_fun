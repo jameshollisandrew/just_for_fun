{
 "cells": [
  {
   "cell_type": "code",
   "execution_count": 13,
   "metadata": {},
   "outputs": [],
   "source": [
    "s = \"\"\"Status: Applied Application Date: 02/20/20 Decision Date: NA Institute Acceptance date: NA Education: United States Military Academy, BS, Computer Science, 2.6ish Employer: 3 years, TruSimulation, C++ C Ada95 scripting 1 year, Northrop Grumman, C C++ Ada95, scripting Recommendations: senior software engineer, project manager and software manager recommendations Comments: gpa was low because I took some stupid electives ( Chinese language, etc) and 20 plus credit hours per semester, also I was enrolled at Syracuse University for MS in software engineering but never finished due to health issues\"\"\"\n",
    "\n"
   ]
  },
  {
   "cell_type": "code",
   "execution_count": 87,
   "metadata": {},
   "outputs": [],
   "source": [
    "import re\n",
    "\n",
    "def unformatted_to_formatted(s):\n",
    "    \n",
    "    \"\"\"This function takes a body of text as input, and returns same body of text\n",
    "       with any changes made during function. \n",
    "       \n",
    "       This function:\n",
    "       - Uses IGNORECASE flag to correct case to header_list header capitalization.\n",
    "       - Checks for headers, appends any listed mistypes (requires user setup).\n",
    "       - Checks for \\n line break. If none found, places 4 spaces and \\n before all headers but 'Status'.\n",
    "       - Checks for ** markdown bold. If none found, edits headers and places ** before, after header.\n",
    "       - Checks for Education entry. If not multiline, removes entire string and places it on next line.\n",
    "       \n",
    "       Future Improvements: \n",
    "       - Additional breaks if >1 education entry.\"\"\"\n",
    "    \n",
    "    # Status: <Choose One: Applied/Accepted/Rejected>   \n",
    "    # Application Date: <MM/DD/YY>    \n",
    "    # Decision Date: <MM/DD/YY>    \n",
    "    # Institute Acceptance Date: <MM/DD/YY>    \n",
    "    # Education: <For each degree, list (one per line): School, Degree, Major, GPA>   \n",
    "    # Experience: <For each job, list (one per line): Years employed, Employer, programming languages>   \n",
    "    # Recommendations: <Number of recommendations on file when you receive a decision>    \n",
    "    # Comments: <Arbitrary user text>\n",
    "\n",
    "    # check for headers\n",
    "    header_list = ['Status:', 'Application Date:', 'Decision Date:', 'Institute Acceptance Date:',\n",
    "                   'Education:', 'Experience:', 'Recommendations:', 'Comments:']\n",
    "    lost_boys = []\n",
    "    \n",
    "    for header in header_list:    \n",
    "        if re.search(header, s, flags=re.IGNORECASE) is None:\n",
    "            lost_boys.append(header)\n",
    "            \n",
    "    # correct case\n",
    "    for header in header_list:    \n",
    "        if re.search(header, s, flags=re.IGNORECASE):\n",
    "            s = re.sub(header, header, s, flags=re.IGNORECASE)\n",
    "    \n",
    "    # evaluate lost headers\n",
    "    for boy in lost_boys:\n",
    "        if boy == 'Experience:': # try other words for experience\n",
    "            other_words = ['Employer', 'Work History']\n",
    "            for word in other_words:\n",
    "                p = word + ':'\n",
    "                if re.search(p, s, flags=re.IGNORECASE):\n",
    "                    s = re.sub(word, 'Experience', s, flags=re.IGNORECASE)\n",
    "                    \n",
    "    # no line breaks\n",
    "    if re.search('\\n', s) is None:\n",
    "        for header in header_list:  \n",
    "            if header != 'Status:':\n",
    "                p = '[ ]*' + header\n",
    "                r = '    \\n' + header # tab + new line carriage return\n",
    "                s = re.sub(p, r, s, flags=re.IGNORECASE)\n",
    "\n",
    "    # education catch\n",
    "    p = 'Education:[\\s]+\\n'\n",
    "    if re.search(p, s) is None:\n",
    "        p = 'Education: (.+)[ ]{4}\\n'\n",
    "        stuff = re.search(p, s)\n",
    "        r = 'Education:    \\n' + stuff[1] + '    \\n'\n",
    "        s = re.sub(p, r, s)\n",
    "    \n",
    "    # bold headers\n",
    "    p = '\\*\\*'\n",
    "    if re.search(p, s) is None:\n",
    "        for header in header_list:\n",
    "            r = '**' + header + '**'\n",
    "            s = re.sub(header, r, s)\n",
    "\n",
    "    # return text\n",
    "    return(s)"
   ]
  },
  {
   "cell_type": "code",
   "execution_count": 89,
   "metadata": {},
   "outputs": [
    {
     "name": "stdout",
     "output_type": "stream",
     "text": [
      "**Status:** Applied    \n",
      "**Application Date:** 02/20/20    \n",
      "**Decision Date:** NA    \n",
      "**Institute Acceptance Date:** NA    \n",
      "**Education:**    \n",
      "United States Military Academy, BS, Computer Science, 2.6ish    \n",
      "**Experience:** 3 years, TruSimulation, C++ C Ada95 scripting 1 year, Northrop Grumman, C C++ Ada95, scripting    \n",
      "**Recommendations:** senior software engineer, project manager and software manager recommendations    \n",
      "**Comments:** gpa was low because I took some stupid electives ( Chinese language, etc) and 20 plus credit hours per semester, also I was enrolled at Syracuse University for MS in software engineering but never finished due to health issues\n"
     ]
    }
   ],
   "source": [
    "print(unformatted_to_formatted(s))"
   ]
  },
  {
   "cell_type": "markdown",
   "metadata": {},
   "source": [
    "**Status:** Applied    \n",
    "**Application Date:** 02/20/20    \n",
    "**Decision Date:** NA    \n",
    "**Institute Acceptance Date:** NA    \n",
    "**Education:**    \n",
    "United States Military Academy, BS, Computer Science, 2.6ish    \n",
    "**Experience:** 3 years, TruSimulation, C++ C Ada95 scripting 1 year, Northrop Grumman, C C++ Ada95, scripting    \n",
    "**Recommendations:** senior software engineer, project manager and software manager recommendations    \n",
    "**Comments:** gpa was low because I took some stupid electives ( Chinese language, etc) and 20 plus credit hours per semester, also I was enrolled at Syracuse University for MS in software engineering but never finished due to health issues"
   ]
  },
  {
   "cell_type": "code",
   "execution_count": null,
   "metadata": {},
   "outputs": [],
   "source": []
  }
 ],
 "metadata": {
  "kernelspec": {
   "display_name": "Python 3",
   "language": "python",
   "name": "python3"
  },
  "language_info": {
   "codemirror_mode": {
    "name": "ipython",
    "version": 3
   },
   "file_extension": ".py",
   "mimetype": "text/x-python",
   "name": "python",
   "nbconvert_exporter": "python",
   "pygments_lexer": "ipython3",
   "version": "3.7.3"
  }
 },
 "nbformat": 4,
 "nbformat_minor": 4
}
